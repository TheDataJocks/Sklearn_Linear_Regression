{
 "cells": [
  {
   "cell_type": "markdown",
   "id": "f64d7a12",
   "metadata": {},
   "source": [
    "First, import the modules and data we use. Pandas gives us easy functionality for dealing with data frames and sklearn contains the linear model functionality we'll use. The head method on a data frame lets us see what the data looks like. "
   ]
  },
  {
   "cell_type": "code",
   "execution_count": 1,
   "id": "c5e7b5ca",
   "metadata": {},
   "outputs": [
    {
     "data": {
      "text/html": [
       "<div>\n",
       "<style scoped>\n",
       "    .dataframe tbody tr th:only-of-type {\n",
       "        vertical-align: middle;\n",
       "    }\n",
       "\n",
       "    .dataframe tbody tr th {\n",
       "        vertical-align: top;\n",
       "    }\n",
       "\n",
       "    .dataframe thead th {\n",
       "        text-align: right;\n",
       "    }\n",
       "</style>\n",
       "<table border=\"1\" class=\"dataframe\">\n",
       "  <thead>\n",
       "    <tr style=\"text-align: right;\">\n",
       "      <th></th>\n",
       "      <th>Rk</th>\n",
       "      <th>Team</th>\n",
       "      <th>Conf</th>\n",
       "      <th>Div</th>\n",
       "      <th>W</th>\n",
       "      <th>L</th>\n",
       "      <th>W/L%</th>\n",
       "      <th>MOV</th>\n",
       "      <th>ORtg</th>\n",
       "      <th>DRtg</th>\n",
       "      <th>NRtg</th>\n",
       "      <th>MOV/A</th>\n",
       "      <th>ORtg/A</th>\n",
       "      <th>DRtg/A</th>\n",
       "      <th>NRtg/A</th>\n",
       "    </tr>\n",
       "  </thead>\n",
       "  <tbody>\n",
       "    <tr>\n",
       "      <th>0</th>\n",
       "      <td>1</td>\n",
       "      <td>Boston Celtics</td>\n",
       "      <td>E</td>\n",
       "      <td>A</td>\n",
       "      <td>52</td>\n",
       "      <td>23</td>\n",
       "      <td>0.693</td>\n",
       "      <td>6.37</td>\n",
       "      <td>118.96</td>\n",
       "      <td>112.42</td>\n",
       "      <td>6.54</td>\n",
       "      <td>6.11</td>\n",
       "      <td>119.02</td>\n",
       "      <td>112.73</td>\n",
       "      <td>6.29</td>\n",
       "    </tr>\n",
       "    <tr>\n",
       "      <th>1</th>\n",
       "      <td>2</td>\n",
       "      <td>Cleveland Cavaliers</td>\n",
       "      <td>E</td>\n",
       "      <td>C</td>\n",
       "      <td>48</td>\n",
       "      <td>28</td>\n",
       "      <td>0.632</td>\n",
       "      <td>5.66</td>\n",
       "      <td>117.34</td>\n",
       "      <td>111.43</td>\n",
       "      <td>5.91</td>\n",
       "      <td>5.62</td>\n",
       "      <td>117.40</td>\n",
       "      <td>111.52</td>\n",
       "      <td>5.88</td>\n",
       "    </tr>\n",
       "    <tr>\n",
       "      <th>2</th>\n",
       "      <td>3</td>\n",
       "      <td>Philadelphia 76ers</td>\n",
       "      <td>E</td>\n",
       "      <td>A</td>\n",
       "      <td>49</td>\n",
       "      <td>26</td>\n",
       "      <td>0.653</td>\n",
       "      <td>4.59</td>\n",
       "      <td>118.77</td>\n",
       "      <td>114.10</td>\n",
       "      <td>4.67</td>\n",
       "      <td>4.48</td>\n",
       "      <td>118.81</td>\n",
       "      <td>114.24</td>\n",
       "      <td>4.57</td>\n",
       "    </tr>\n",
       "    <tr>\n",
       "      <th>3</th>\n",
       "      <td>4</td>\n",
       "      <td>Milwaukee Bucks</td>\n",
       "      <td>E</td>\n",
       "      <td>C</td>\n",
       "      <td>54</td>\n",
       "      <td>21</td>\n",
       "      <td>0.720</td>\n",
       "      <td>4.36</td>\n",
       "      <td>115.92</td>\n",
       "      <td>111.72</td>\n",
       "      <td>4.20</td>\n",
       "      <td>4.14</td>\n",
       "      <td>115.79</td>\n",
       "      <td>111.79</td>\n",
       "      <td>4.00</td>\n",
       "    </tr>\n",
       "    <tr>\n",
       "      <th>4</th>\n",
       "      <td>5</td>\n",
       "      <td>Memphis Grizzlies</td>\n",
       "      <td>W</td>\n",
       "      <td>SW</td>\n",
       "      <td>47</td>\n",
       "      <td>27</td>\n",
       "      <td>0.635</td>\n",
       "      <td>4.36</td>\n",
       "      <td>116.04</td>\n",
       "      <td>111.69</td>\n",
       "      <td>4.36</td>\n",
       "      <td>3.91</td>\n",
       "      <td>115.54</td>\n",
       "      <td>111.64</td>\n",
       "      <td>3.90</td>\n",
       "    </tr>\n",
       "  </tbody>\n",
       "</table>\n",
       "</div>"
      ],
      "text/plain": [
       "   Rk                 Team Conf Div   W   L   W/L%   MOV    ORtg    DRtg  \\\n",
       "0   1       Boston Celtics    E   A  52  23  0.693  6.37  118.96  112.42   \n",
       "1   2  Cleveland Cavaliers    E   C  48  28  0.632  5.66  117.34  111.43   \n",
       "2   3   Philadelphia 76ers    E   A  49  26  0.653  4.59  118.77  114.10   \n",
       "3   4      Milwaukee Bucks    E   C  54  21  0.720  4.36  115.92  111.72   \n",
       "4   5    Memphis Grizzlies    W  SW  47  27  0.635  4.36  116.04  111.69   \n",
       "\n",
       "   NRtg  MOV/A  ORtg/A  DRtg/A  NRtg/A  \n",
       "0  6.54   6.11  119.02  112.73    6.29  \n",
       "1  5.91   5.62  117.40  111.52    5.88  \n",
       "2  4.67   4.48  118.81  114.24    4.57  \n",
       "3  4.20   4.14  115.79  111.79    4.00  \n",
       "4  4.36   3.91  115.54  111.64    3.90  "
      ]
     },
     "execution_count": 1,
     "metadata": {},
     "output_type": "execute_result"
    }
   ],
   "source": [
    "import pandas as pd\n",
    "from sklearn.linear_model import LinearRegression\n",
    "import numpy as np\n",
    "from matplotlib import pyplot as plt\n",
    "\n",
    "nba_standings_mar23 = pd.read_csv('./data.csv')\n",
    "nba_standings_mar23.head()"
   ]
  },
  {
   "cell_type": "markdown",
   "id": "9727c7d1",
   "metadata": {},
   "source": [
    "A team's offensive rating should be a good predictor of their average margin of victory! Let's see how they're related. To do this, we need to create a LinearRegression object and then fit it to the data we care about. First, let's convert the data to numpy arrays and plot to see the relationship"
   ]
  },
  {
   "cell_type": "code",
   "execution_count": 2,
   "id": "385f83e8",
   "metadata": {},
   "outputs": [
    {
     "data": {
      "text/plain": [
       "Text(0, 0.5, 'Average Margin of Victory')"
      ]
     },
     "execution_count": 2,
     "metadata": {},
     "output_type": "execute_result"
    },
    {
     "data": {
      "image/png": "[encoded data removed]",
      "text/plain": [
       "<Figure size 640x480 with 1 Axes>"
      ]
     },
     "metadata": {},
     "output_type": "display_data"
    }
   ],
   "source": [
    "X1=np.array(nba_standings_mar23[\"ORtg\"])\n",
    "Y=np.array(nba_standings_mar23[\"MOV\"])\n",
    "model = LinearRegression()\n",
    "X1=X1.reshape(-1,1)\n",
    "Y=Y.reshape(-1,1)\n",
    "model.fit(X1,Y)\n",
    "plt.plot(X1,Y,'ro')\n",
    "plt.xlabel('Offensive Rating')\n",
    "plt.ylabel('Average Margin of Victory')"
   ]
  },
  {
   "cell_type": "markdown",
   "id": "fbb684ce",
   "metadata": {},
   "source": [
    "Sklearn expects array like objects so we first convert to arrays then reshape them per the method suggested in the error string. Then we use the model's' fit method to perform the regression. Finally, we can use the predict method to compute the least squares regression line. "
   ]
  },
  {
   "cell_type": "code",
   "execution_count": 5,
   "id": "b502fe27",
   "metadata": {},
   "outputs": [
    {
     "data": {
      "text/plain": [
       "Text(0, 0.5, 'Average Margin of Victory')"
      ]
     },
     "execution_count": 5,
     "metadata": {},
     "output_type": "execute_result"
    },
    {
     "data": {
      "image/png": "[encoded data removed]",
      "text/plain": [
       "<Figure size 640x480 with 1 Axes>"
      ]
     },
     "metadata": {},
     "output_type": "display_data"
    }
   ],
   "source": [
    "model = LinearRegression()\n",
    "X1=X1.reshape(-1,1)\n",
    "Y=Y.reshape(-1,1)\n",
    "model.fit(X1,Y)\n",
    "Y_hat = model.predict(X1)\n",
    "plt.plot(X1,Y,'ro')\n",
    "plt.plot(X1,Y_hat,'b')\n",
    "plt.xlabel('Offensive Rating')\n",
    "plt.ylabel('Average Margin of Victory')"
   ]
  },
  {
   "cell_type": "markdown",
   "id": "e9cad5c2",
   "metadata": {},
   "source": [
    "We often want to view the specifics of the model. The following code helps us look at the slope, the intercept, the the R^2 value (in order) of the model we just fit. "
   ]
  },
  {
   "cell_type": "code",
   "execution_count": 6,
   "id": "02bd0073",
   "metadata": {},
   "outputs": [
    {
     "name": "stdout",
     "output_type": "stream",
     "text": [
      "[[1.33631684]]\n",
      "[-154.51710369]\n",
      "0.6788858069710604\n"
     ]
    }
   ],
   "source": [
    "print(model.coef_)\n",
    "print(model.intercept_)\n",
    "print(model.score(X1,Y))"
   ]
  },
  {
   "cell_type": "markdown",
   "id": "e9c1f003",
   "metadata": {},
   "source": [
    "In the next block of code we perform multiple linear regression using a different technique for pre-formatting the data. "
   ]
  },
  {
   "cell_type": "code",
   "execution_count": 11,
   "id": "9134904e",
   "metadata": {},
   "outputs": [
    {
     "name": "stdout",
     "output_type": "stream",
     "text": [
      "0.9993533092170621\n"
     ]
    }
   ],
   "source": [
    "two_feature_model = LinearRegression()\n",
    "X_ORTG_and_DRTG = nba_standings_mar23[[\"ORtg\",\"DRtg\"]]\n",
    "MOV=nba_standings_mar23[[\"MOV\"]]\n",
    "two_feature_model.fit(X_ORTG_and_DRTG,MOV)\n",
    "print(two_feature_model.score(X_ORTG_and_DRTG,MOV))"
   ]
  },
  {
   "cell_type": "markdown",
   "id": "b1889260",
   "metadata": {},
   "source": [
    "This is a perfect example of why we care about domain knowledge in data science. Margin of victory is actually a linear funciton of the offensive rating and defensive rating. The only reason we don't get a perfect model fit is because of rounding errors. However, what happens if we put an extra feature in?"
   ]
  },
  {
   "cell_type": "code",
   "execution_count": 24,
   "id": "b3068d7c",
   "metadata": {},
   "outputs": [
    {
     "name": "stdout",
     "output_type": "stream",
     "text": [
      "0.999389588485911\n",
      "[[ 1.13025342 -0.89471186 -0.12336707 -0.08802131]]\n"
     ]
    }
   ],
   "source": [
    "four_feature_model = LinearRegression()\n",
    "X_with_four = nba_standings_mar23[[\"ORtg\",\"DRtg\",\"ORtg/A\",\"DRtg/A\"]]\n",
    "four_feature_model.fit(X_with_four,MOV)\n",
    "print(four_feature_model.score(X_with_four,MOV))\n",
    "print(four_feature_model.coef_)"
   ]
  },
  {
   "cell_type": "markdown",
   "id": "daa24c17",
   "metadata": {},
   "source": [
    "Lasso uses L1 regularization to induce models with sparse coefficient vectors. This can ensure that superfluous features don't feed into the model"
   ]
  },
  {
   "cell_type": "code",
   "execution_count": 23,
   "id": "8726bcdf",
   "metadata": {},
   "outputs": [
    {
     "name": "stdout",
     "output_type": "stream",
     "text": [
      "[ 0.94133969 -0.92492896  0.         -0.        ]\n"
     ]
    }
   ],
   "source": [
    "from sklearn.linear_model import Lasso\n",
    "\n",
    "sparse_model = Lasso(alpha=0.5)\n",
    "sparse_model.fit(X_with_four,MOV)\n",
    "print(sparse_model.coef_)"
   ]
  },
  {
   "cell_type": "code",
   "execution_count": null,
   "id": "d2f22bbb",
   "metadata": {},
   "outputs": [],
   "source": []
  }
 ],
 "metadata": {
  "kernelspec": {
   "display_name": "Python 3 (ipykernel)",
   "language": "python",
   "name": "python3"
  },
  "language_info": {
   "codemirror_mode": {
    "name": "ipython",
    "version": 3
   },
   "file_extension": ".py",
   "mimetype": "text/x-python",
   "name": "python",
   "nbconvert_exporter": "python",
   "pygments_lexer": "ipython3",
   "version": "3.9.13"
  }
 },
 "nbformat": 4,
 "nbformat_minor": 5
}
